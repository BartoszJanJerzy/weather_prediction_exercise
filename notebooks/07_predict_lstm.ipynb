{
 "cells": [
  {
   "cell_type": "code",
   "execution_count": null,
   "metadata": {},
   "outputs": [],
   "source": [
    "import os\n",
    "\n",
    "import pandas as pd\n",
    "import numpy as np\n",
    "\n",
    "import plotly.graph_objects as go\n",
    "import plotly.express as px\n",
    "from plotly.subplots import make_subplots\n",
    "\n",
    "from sklearn.metrics import mean_absolute_error, mean_squared_error\n",
    "\n",
    "import torch\n",
    "import torch.nn as nn\n",
    "\n",
    "from datetime import date, timedelta, datetime"
   ]
  },
  {
   "cell_type": "code",
   "execution_count": null,
   "metadata": {},
   "outputs": [],
   "source": [
    "import warnings\n",
    "warnings.filterwarnings(\"ignore\")"
   ]
  },
  {
   "cell_type": "code",
   "execution_count": null,
   "metadata": {},
   "outputs": [],
   "source": [
    "os.chdir(\"..\")\n",
    "os.getcwd()"
   ]
  },
  {
   "cell_type": "markdown",
   "metadata": {},
   "source": [
    "# Load data"
   ]
  },
  {
   "cell_type": "code",
   "execution_count": null,
   "metadata": {},
   "outputs": [],
   "source": [
    "origin_df = pd.read_csv(\"./resources/weather_prediction_dataset.csv\")\n",
    "base_columns = [\"DATE\", \"MONTH\"]\n",
    "oslo_columns = [x for x in origin_df.columns if x.startswith(\"OSLO\")]\n",
    "columns = base_columns + oslo_columns\n",
    "origin_df = origin_df[columns][:-1]\n",
    "\n",
    "origin_df[\"YEAR\"] = origin_df[\"DATE\"].apply(lambda x: int(str(x)[:4]))\n",
    "origin_df[\"DAY\"] = origin_df[\"DATE\"].apply(lambda x: int(str(x)[-2:]))\n",
    "origin_df[\"DATE\"] = [\n",
    "    date(year=origin_df['YEAR'].iloc[i], month=origin_df['MONTH'].iloc[i], day=origin_df['DAY'].iloc[i])\n",
    "    for i in range(len(origin_df))\n",
    "]\n",
    "\n",
    "origin_df.head()"
   ]
  },
  {
   "cell_type": "code",
   "execution_count": null,
   "metadata": {},
   "outputs": [],
   "source": [
    "stationary_df = pd.read_csv(\"resources/weather_prediction_stationary_dataset.csv\")"
   ]
  },
  {
   "cell_type": "markdown",
   "metadata": {},
   "source": [
    "# Prepare LSTM model"
   ]
  },
  {
   "cell_type": "code",
   "execution_count": null,
   "metadata": {},
   "outputs": [],
   "source": [
    "input_dim = 4  # Number of features (4 in this case)\n",
    "hidden_dim = 20\n",
    "num_layers = 4\n",
    "output_dim = 4  # Predicting next step for all features"
   ]
  },
  {
   "cell_type": "code",
   "execution_count": null,
   "metadata": {},
   "outputs": [],
   "source": [
    "class LSTMModel(nn.Module):\n",
    "    def __init__(self, input_dim, hidden_dim, num_layers, output_dim):\n",
    "        super(LSTMModel, self).__init__()\n",
    "        self.lstm = nn.LSTM(input_dim, hidden_dim, num_layers, batch_first=True)\n",
    "        self.fc = nn.Linear(hidden_dim, output_dim)\n",
    "\n",
    "    def forward(self, x):\n",
    "        lstm_out, _ = self.lstm(x)\n",
    "        return self.fc(lstm_out[:, -1, :])  # Use last time step's output"
   ]
  },
  {
   "cell_type": "code",
   "execution_count": null,
   "metadata": {},
   "outputs": [],
   "source": [
    "lstm = LSTMModel(input_dim, hidden_dim, num_layers, output_dim)\n",
    "lstm.load_state_dict(torch.load(\"resources/lstm\"))\n",
    "lstm.eval()"
   ]
  },
  {
   "cell_type": "markdown",
   "metadata": {},
   "source": [
    "# Prepare dataset"
   ]
  },
  {
   "cell_type": "code",
   "execution_count": null,
   "metadata": {},
   "outputs": [],
   "source": [
    "feature_cols = [\"OSLO_temp_mean\", \"OSLO_cloud_cover\", \"OSLO_humidity\", \"OSLO_pressure\"]"
   ]
  },
  {
   "cell_type": "code",
   "execution_count": null,
   "metadata": {},
   "outputs": [],
   "source": [
    "monthly_temp = origin_df.groupby('MONTH').agg({col: \"mean\" for col in feature_cols}).reset_index()\n",
    "monthly_temp"
   ]
  },
  {
   "cell_type": "code",
   "execution_count": null,
   "metadata": {},
   "outputs": [],
   "source": [
    "feature_df = stationary_df[[\"DATE\"] + feature_cols]\n",
    "feature_df[\"DATE\"] = pd.to_datetime(feature_df[\"DATE\"])\n",
    "feature_df = feature_df[feature_df[\"DATE\"] >= datetime(year=2008, month=12, day=25)].reset_index(drop=True)\n",
    "feature_df.head(10)"
   ]
  },
  {
   "cell_type": "code",
   "execution_count": null,
   "metadata": {},
   "outputs": [],
   "source": [
    "stationary_df[\"DATE\"] = pd.to_datetime(stationary_df[\"DATE\"])\n",
    "stationary_df[stationary_df[\"DATE\"] >= datetime(year=2009, month=1, day=1)]"
   ]
  },
  {
   "cell_type": "markdown",
   "metadata": {},
   "source": [
    "# Implement LSTM predictions"
   ]
  },
  {
   "cell_type": "code",
   "execution_count": null,
   "metadata": {},
   "outputs": [],
   "source": [
    "def create_x(data, seq_length):\n",
    "    sequences = []\n",
    "    seq = data[0:min(seq_length, len(data))]\n",
    "    sequences.append(seq)\n",
    "    return np.array(sequences)\n",
    "\n",
    "\n",
    "def show_predictions(targets, preds, mae, mse, lag):\n",
    "    fig = go.Figure()\n",
    "\n",
    "    fig.add_trace(\n",
    "        go.Scattergl(\n",
    "            name=\"Real\",\n",
    "            x=[x for x in range(len(targets))],\n",
    "            y=targets,\n",
    "            mode=\"lines\"\n",
    "        )\n",
    "    )\n",
    "    fig.add_trace(\n",
    "        go.Scattergl(\n",
    "            name=\"7-days predictions\",\n",
    "            x=[x for x in range(len(targets))],\n",
    "            y=preds,\n",
    "            mode=\"lines\"\n",
    "        )\n",
    "    )\n",
    "\n",
    "    fig.update_layout(\n",
    "        title=f\"<b>7 days predictions in 2009</b><br>Lag days = {lag}<br>mae={round(mae, 2)}, mse={round(mse, 2)}\",\n",
    "        height=500,\n",
    "        legend=dict(\n",
    "            orientation=\"h\",\n",
    "            yanchor=\"bottom\",\n",
    "            y=0.91,\n",
    "            xanchor=\"left\",\n",
    "            x=0\n",
    "        ),\n",
    "        xaxis_title=\"Day\",\n",
    "        yaxis_title=\"Temp [C]\"\n",
    "    )\n",
    "\n",
    "    fig.show()"
   ]
  },
  {
   "cell_type": "code",
   "execution_count": null,
   "metadata": {},
   "outputs": [],
   "source": [
    "starting_date = datetime(year=2008, month=12, day=25)\n",
    "finish_date = datetime(year=2009, month=1, day=1)\n",
    "y_id = 7\n",
    "predictions, targets, months = [], [], []\n",
    "run = True\n",
    "\n",
    "while run:\n",
    "    feature_df_preds = feature_df.copy()\n",
    "    \n",
    "    for i in range(7):\n",
    "        x = create_x(\n",
    "            (\n",
    "                feature_df_preds\n",
    "                [(feature_df_preds[\"DATE\"] >= starting_date) & (feature_df_preds[\"DATE\"] < finish_date)]\n",
    "                [feature_cols]\n",
    "            ),\n",
    "            7\n",
    "        )\n",
    "        y_true = feature_df.loc[y_id][feature_cols].to_list()\n",
    "        month = feature_df.loc[y_id][\"DATE\"].month\n",
    "        preds = lstm.forward(torch.tensor(x, dtype=torch.float32)).tolist()[0]\n",
    "        feature_df_preds.loc[y_id, feature_cols[0]] = preds[0]\n",
    "        feature_df_preds.loc[y_id, feature_cols[1]] = preds[1]\n",
    "        feature_df_preds.loc[y_id, feature_cols[2]] = preds[2]\n",
    "        feature_df_preds.loc[y_id, feature_cols[3]] = preds[3]\n",
    "        \n",
    "        predictions.append(preds)\n",
    "        targets.append(targets)\n",
    "        months.append(month)\n",
    "        \n",
    "        starting_date += timedelta(days=1)\n",
    "        finish_date += timedelta(days=1)\n",
    "        y_id += 1\n",
    "        \n",
    "        if y_id >= len(feature_df)-1:\n",
    "            run = False\n",
    " \n",
    "assert len(predictions) == len(targets)\n",
    "assert len(predictions) == len(months)\n",
    "# targets = [monthly_temp[months[i]] + x for i, x in enumerate(targets)]\n",
    "# preds = [monthly_temp[months[i]] + x for i, x in enumerate(preds)]\n",
    "\n",
    "# mae = mean_absolute_error(targets, preds)\n",
    "# mse = mean_squared_error(targets, preds)\n",
    "\n",
    "# mae_data[lag] = mae\n",
    "# mse_data[lag] = mse\n",
    "\n",
    "# show_predictions(targets, preds, mae, mse, lag)"
   ]
  },
  {
   "cell_type": "code",
   "execution_count": null,
   "metadata": {},
   "outputs": [],
   "source": [
    "# predictions df\n",
    "df_results = feature_df[feature_df[\"DATE\"] >= datetime(year=2009, month=1, day=1)][:-1]\n",
    "df_results[feature_cols[0] + \"_pred\"] = [x[0] for x in predictions]\n",
    "df_results[feature_cols[1] + \"_pred\"] = [x[1] for x in predictions]\n",
    "df_results[feature_cols[2] + \"_pred\"] = [x[2] for x in predictions]\n",
    "df_results[feature_cols[3] + \"_pred\"] = [x[3] for x in predictions]\n",
    "\n",
    "\n",
    "# add monthly values\n",
    "for col in feature_cols:\n",
    "    values = df_results[col].to_list()\n",
    "    new_values = []\n",
    "    for i in range(len(values)):\n",
    "        new_values.append(monthly_temp[monthly_temp[\"MONTH\"] == months[i]][col].to_list()[0] + values[i])\n",
    "    df_results[col] = new_values\n",
    "    \n",
    "    values = df_results[col + \"_pred\"].to_list()\n",
    "    new_values = []\n",
    "    for i in range(len(values)):\n",
    "        new_values.append(monthly_temp[monthly_temp[\"MONTH\"] == months[i]][col].to_list()[0] + values[i])\n",
    "    df_results[col + \"_pred\"] = new_values\n",
    "\n",
    "df_results    "
   ]
  },
  {
   "cell_type": "code",
   "execution_count": null,
   "metadata": {},
   "outputs": [],
   "source": [
    "x = [i for i in range(1, len(df_results)+1)]\n",
    "\n",
    "for col in feature_cols:\n",
    "    mae = mean_absolute_error(\n",
    "        df_results[col].to_numpy(),\n",
    "        df_results[col+\"_pred\"].to_numpy()\n",
    "    )\n",
    "    mse = mean_squared_error(\n",
    "        df_results[col].to_numpy(),\n",
    "        df_results[col+\"_pred\"].to_numpy()\n",
    "    )\n",
    "    fig = go.Figure()\n",
    "    \n",
    "    fig.add_trace(\n",
    "        go.Scatter(\n",
    "            name=\"Real\",\n",
    "            x=x,\n",
    "            y=df_results[col],\n",
    "            mode=\"lines\"\n",
    "        )\n",
    "    )\n",
    "    fig.add_trace(\n",
    "        go.Scatter(\n",
    "            name=\"7-days prediction\",\n",
    "            x=x,\n",
    "            y=df_results[col+\"_pred\"],\n",
    "            mode=\"lines\"\n",
    "        )\n",
    "    )\n",
    "    \n",
    "    fig.update_layout(\n",
    "        title=f\"<b>{col.upper()}: 7 days predictions in 2009</b><br>mae={round(mae, 2)}, mse={round(mse, 2)}\",\n",
    "        height=500,\n",
    "        legend=dict(\n",
    "            orientation=\"h\",\n",
    "            yanchor=\"bottom\",\n",
    "            y=1,\n",
    "            xanchor=\"left\",\n",
    "            x=0\n",
    "        ),\n",
    "        xaxis_title=\"Day\"\n",
    "    )\n",
    "    fig.show()"
   ]
  },
  {
   "cell_type": "code",
   "execution_count": null,
   "metadata": {},
   "outputs": [],
   "source": []
  }
 ],
 "metadata": {
  "kernelspec": {
   "display_name": "venv",
   "language": "python",
   "name": "python3"
  },
  "language_info": {
   "codemirror_mode": {
    "name": "ipython",
    "version": 3
   },
   "file_extension": ".py",
   "mimetype": "text/x-python",
   "name": "python",
   "nbconvert_exporter": "python",
   "pygments_lexer": "ipython3",
   "version": "3.12.1"
  }
 },
 "nbformat": 4,
 "nbformat_minor": 2
}
