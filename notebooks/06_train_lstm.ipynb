{
 "cells": [
  {
   "cell_type": "markdown",
   "metadata": {},
   "source": [
    "# Goal: train LSTM model to predict multiple features\n",
    "- OSLO_temp_mean\n",
    "- OSLO_cloud_cover\n",
    "- OSLO_humidity\n",
    "- OSLO_pressure"
   ]
  },
  {
   "cell_type": "code",
   "execution_count": null,
   "metadata": {},
   "outputs": [],
   "source": [
    "import os\n",
    "import pickle\n",
    "\n",
    "import torch\n",
    "import torch.nn as nn\n",
    "import torch.optim as optim\n",
    "from torch.utils.data import DataLoader, TensorDataset\n",
    "\n",
    "import numpy as np\n",
    "import pandas as pd\n",
    "\n",
    "from datetime import date, datetime\n",
    "import plotly.graph_objects as go"
   ]
  },
  {
   "cell_type": "code",
   "execution_count": null,
   "metadata": {},
   "outputs": [],
   "source": [
    "os.chdir(\"..\")\n",
    "os.getcwd()"
   ]
  },
  {
   "cell_type": "markdown",
   "metadata": {},
   "source": [
    "# Dataframe"
   ]
  },
  {
   "cell_type": "code",
   "execution_count": null,
   "metadata": {},
   "outputs": [],
   "source": [
    "origin_df = pd.read_csv(\"./resources/weather_prediction_dataset.csv\")\n",
    "base_columns = [\"DATE\", \"MONTH\"]\n",
    "oslo_columns = [x for x in origin_df.columns if x.startswith(\"OSLO\")]\n",
    "columns = base_columns + oslo_columns\n",
    "origin_df = origin_df[columns][:-1]\n",
    "\n",
    "origin_df[\"YEAR\"] = origin_df[\"DATE\"].apply(lambda x: int(str(x)[:4]))\n",
    "origin_df[\"DAY\"] = origin_df[\"DATE\"].apply(lambda x: int(str(x)[-2:]))\n",
    "origin_df[\"DATE\"] = [\n",
    "    date(year=origin_df['YEAR'].iloc[i], month=origin_df['MONTH'].iloc[i], day=origin_df['DAY'].iloc[i])\n",
    "    for i in range(len(origin_df))\n",
    "]\n",
    "\n",
    "origin_df.head()"
   ]
  },
  {
   "cell_type": "code",
   "execution_count": null,
   "metadata": {},
   "outputs": [],
   "source": [
    "stationary_df = pd.read_csv(\"resources/weather_prediction_stationary_dataset.csv\")\n",
    "stationary_df[\"DATE\"] = pd.to_datetime(stationary_df[\"DATE\"])"
   ]
  },
  {
   "cell_type": "code",
   "execution_count": null,
   "metadata": {},
   "outputs": [],
   "source": [
    "train_features_df = (\n",
    "    stationary_df\n",
    "    [stationary_df[\"DATE\"] < datetime(year=2009, month=1, day=1)]\n",
    "    [[\"OSLO_temp_mean\", \"OSLO_cloud_cover\", \"OSLO_humidity\", \"OSLO_pressure\"]]\n",
    ")\n",
    "val_features_df = (\n",
    "    stationary_df\n",
    "    [stationary_df[\"DATE\"] >= datetime(year=2009, month=1, day=1)]\n",
    "    [[\"OSLO_temp_mean\", \"OSLO_cloud_cover\", \"OSLO_humidity\", \"OSLO_pressure\"]]\n",
    ")"
   ]
  },
  {
   "cell_type": "markdown",
   "metadata": {},
   "source": [
    "# 3d LSTM data"
   ]
  },
  {
   "cell_type": "code",
   "execution_count": null,
   "metadata": {},
   "outputs": [],
   "source": [
    "def create_sequences(data, seq_length):\n",
    "    sequences = []\n",
    "    labels = []\n",
    "    for i in range(len(data) - seq_length):\n",
    "        seq = data[i:i+seq_length]\n",
    "        label = data.iloc[i+seq_length]  # Predict next step\n",
    "        sequences.append(seq)\n",
    "        labels.append(label)\n",
    "    return np.array(sequences), np.array(labels)"
   ]
  },
  {
   "cell_type": "code",
   "execution_count": null,
   "metadata": {},
   "outputs": [],
   "source": [
    "seq_length = 7  # Number of past steps to use for prediction\n",
    "X_train, y_train = create_sequences(train_features_df, seq_length)\n",
    "X_val, y_val = create_sequences(val_features_df, seq_length)"
   ]
  },
  {
   "cell_type": "code",
   "execution_count": null,
   "metadata": {},
   "outputs": [],
   "source": [
    "X_train = torch.tensor(X_train, dtype=torch.float32)\n",
    "y_train = torch.tensor(y_train, dtype=torch.float32)\n",
    "\n",
    "X_val = torch.tensor(X_val, dtype=torch.float32)\n",
    "y_val = torch.tensor(y_val, dtype=torch.float32)"
   ]
  },
  {
   "cell_type": "markdown",
   "metadata": {},
   "source": [
    "# Model"
   ]
  },
  {
   "cell_type": "code",
   "execution_count": null,
   "metadata": {},
   "outputs": [],
   "source": [
    "class LSTMModel(nn.Module):\n",
    "    def __init__(self, input_dim, hidden_dim, num_layers, output_dim):\n",
    "        super(LSTMModel, self).__init__()\n",
    "        self.lstm = nn.LSTM(input_dim, hidden_dim, num_layers, batch_first=True)\n",
    "        self.fc = nn.Linear(hidden_dim, output_dim)\n",
    "\n",
    "    def forward(self, x):\n",
    "        lstm_out, _ = self.lstm(x)\n",
    "        return self.fc(lstm_out[:, -1, :])  # Use last time step's output"
   ]
  },
  {
   "cell_type": "code",
   "execution_count": null,
   "metadata": {},
   "outputs": [],
   "source": [
    "def train_epoch(model, dataloader, optimizer, criterion, epoch):\n",
    "    model.train()\n",
    "    total_loss = 0\n",
    "    for batch_X, batch_y in dataloader:\n",
    "        optimizer.zero_grad()\n",
    "        output = model(batch_X)\n",
    "        loss = criterion(output, batch_y)\n",
    "        loss.backward()\n",
    "        optimizer.step()\n",
    "        total_loss += loss.item()\n",
    "        \n",
    "    avg_loss = total_loss / len(dataloader)\n",
    "    \n",
    "    return model, avg_loss\n",
    "\n",
    "\n",
    "def val_epoch(model, dataloader, optimizer, criterion, epoch):\n",
    "    model.eval()\n",
    "    total_loss = 0\n",
    "    for batch_X, batch_y in dataloader:\n",
    "        optimizer.zero_grad()\n",
    "        output = model(batch_X)\n",
    "        loss = criterion(output, batch_y)\n",
    "        total_loss += loss.item()\n",
    "        \n",
    "    avg_loss = total_loss / len(dataloader)\n",
    "    \n",
    "    return avg_loss\n",
    "\n",
    "\n",
    "def early_stoppage(loss_history: list[tuple[float, float]], min_incr: float, last_epochs: int = 3) -> bool:\n",
    "    stop = False\n",
    "    val_loss_data = [x[1] for x in loss_history]\n",
    "    if len(loss_history) > last_epochs:\n",
    "        last_results = np.mean(val_loss_data[-last_epochs-1:])\n",
    "        diff = last_results - val_loss_data[-1]\n",
    "        if diff < min_incr:\n",
    "            stop = True\n",
    "            print(\"Early stoppage!\")\n",
    "    return stop\n",
    "            \n",
    "\n",
    "def train_and_validate(model, num_epochs, train_dataloader, val_dataloader, optimizer, criterion, min_incr):\n",
    "    loss_history = []\n",
    "    for epoch in range(num_epochs):\n",
    "        model, train_loss = train_epoch(model, train_dataloader, optimizer, criterion, epoch)\n",
    "        val_loss = val_epoch(model, val_dataloader, optimizer, criterion, epoch)\n",
    "        loss_history.append((train_loss, val_loss))\n",
    "        print(f\"Epoch {epoch+1}/{num_epochs}: train mse = {round(train_loss, 3)}, val mse = {round(val_loss, 3)}\")\n",
    "        if early_stoppage(loss_history, min_incr):\n",
    "            break\n",
    "    return model, loss_history"
   ]
  },
  {
   "cell_type": "code",
   "execution_count": null,
   "metadata": {},
   "outputs": [],
   "source": [
    "input_dim = X_train.shape[2]  # Number of features (4 in this case)\n",
    "hidden_dim = 20\n",
    "num_layers = 4\n",
    "output_dim = X_train.shape[2]  # Predicting next step for all features\n",
    "batch_size = 7 # one week\n",
    "min_incr = 0.001\n",
    "lr = 0.0001\n",
    "num_epochs = 1000"
   ]
  },
  {
   "cell_type": "code",
   "execution_count": null,
   "metadata": {},
   "outputs": [],
   "source": [
    "model = LSTMModel(input_dim, hidden_dim, num_layers, output_dim)\n",
    "criterion = nn.MSELoss()\n",
    "optimizer = optim.Adam(model.parameters(), lr=lr)\n",
    "\n",
    "train_dataloader = DataLoader(TensorDataset(X_train, y_train), batch_size=batch_size, shuffle=False)\n",
    "val_dataloader = DataLoader(TensorDataset(X_val, y_val), batch_size=batch_size, shuffle=False)"
   ]
  },
  {
   "cell_type": "code",
   "execution_count": null,
   "metadata": {},
   "outputs": [],
   "source": [
    "model, loss_history = train_and_validate(model, num_epochs, train_dataloader, val_dataloader, optimizer, criterion, min_incr)"
   ]
  },
  {
   "cell_type": "code",
   "execution_count": null,
   "metadata": {},
   "outputs": [],
   "source": [
    "fig = go.Figure()\n",
    "\n",
    "x = [i+1 for i in range(num_epochs)]\n",
    "fig.add_trace(\n",
    "    go.Scatter(\n",
    "        name=\"Train MSE\",\n",
    "        x=x,\n",
    "        y=[x[0] for x in loss_history],\n",
    "        # mode=\"lines\"\n",
    "    )\n",
    ")\n",
    "fig.add_trace(\n",
    "    go.Scatter(\n",
    "        name=\"Val MSE\",\n",
    "        x=x,\n",
    "        y=[x[1] for x in loss_history],\n",
    "        # mode=\"lines\"\n",
    "    )\n",
    ")\n",
    "\n",
    "fig.update_layout(\n",
    "    title=\"Train history\",\n",
    "    xaxis_title=\"Epoch\",\n",
    "    yaxis_title=\"Loss\",\n",
    "    width=800,\n",
    "    height=700,\n",
    ")\n",
    "\n",
    "fig.show()"
   ]
  },
  {
   "cell_type": "markdown",
   "metadata": {},
   "source": [
    "# Save"
   ]
  },
  {
   "cell_type": "code",
   "execution_count": null,
   "metadata": {},
   "outputs": [],
   "source": [
    "torch.save(model.state_dict(), \"resources/lstm\")"
   ]
  }
 ],
 "metadata": {
  "kernelspec": {
   "display_name": "venv",
   "language": "python",
   "name": "python3"
  },
  "language_info": {
   "codemirror_mode": {
    "name": "ipython",
    "version": 3
   },
   "file_extension": ".py",
   "mimetype": "text/x-python",
   "name": "python",
   "nbconvert_exporter": "python",
   "pygments_lexer": "ipython3",
   "version": "3.12.1"
  }
 },
 "nbformat": 4,
 "nbformat_minor": 2
}
