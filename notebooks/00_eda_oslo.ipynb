{
 "cells": [
  {
   "cell_type": "code",
   "execution_count": null,
   "metadata": {},
   "outputs": [],
   "source": [
    "import os\n",
    "\n",
    "import pandas as pd\n",
    "import numpy as np\n",
    "\n",
    "import plotly.graph_objects as go\n",
    "import plotly.express as px\n",
    "from plotly.subplots import make_subplots\n",
    "\n",
    "from statsmodels.tsa.stattools import adfuller\n",
    "from datetime import date"
   ]
  },
  {
   "cell_type": "code",
   "execution_count": null,
   "metadata": {},
   "outputs": [],
   "source": [
    "os.chdir(\"..\")\n",
    "os.getcwd()"
   ]
  },
  {
   "cell_type": "markdown",
   "metadata": {},
   "source": [
    "# Load data"
   ]
  },
  {
   "cell_type": "code",
   "execution_count": null,
   "metadata": {},
   "outputs": [],
   "source": [
    "origin_df = pd.read_csv(\"resources/weather_prediction_dataset.csv\")\n",
    "base_columns = [\"DATE\", \"MONTH\"]\n",
    "oslo_columns = [x for x in origin_df.columns if x.startswith(\"OSLO\")]\n",
    "columns = base_columns + oslo_columns\n",
    "origin_df = origin_df[columns][:-1]"
   ]
  },
  {
   "cell_type": "code",
   "execution_count": null,
   "metadata": {},
   "outputs": [],
   "source": [
    "origin_df.describe()"
   ]
  },
  {
   "cell_type": "code",
   "execution_count": null,
   "metadata": {},
   "outputs": [],
   "source": [
    "origin_df.info()"
   ]
  },
  {
   "cell_type": "code",
   "execution_count": null,
   "metadata": {},
   "outputs": [],
   "source": [
    "origin_df.head()"
   ]
  },
  {
   "cell_type": "markdown",
   "metadata": {},
   "source": [
    "# Basic preprocessing"
   ]
  },
  {
   "cell_type": "code",
   "execution_count": null,
   "metadata": {},
   "outputs": [],
   "source": [
    "origin_df[\"YEAR\"] = origin_df[\"DATE\"].apply(lambda x: int(str(x)[:4]))\n",
    "origin_df[\"DAY\"] = origin_df[\"DATE\"].apply(lambda x: int(str(x)[-2:]))\n",
    "origin_df[\"DATE\"] = [\n",
    "    date(year=origin_df['YEAR'].iloc[i], month=origin_df['MONTH'].iloc[i], day=origin_df['DAY'].iloc[i])\n",
    "    for i in range(len(origin_df))\n",
    "]\n",
    "\n",
    "origin_df.head()"
   ]
  },
  {
   "cell_type": "markdown",
   "metadata": {},
   "source": [
    "# Basic visualization"
   ]
  },
  {
   "cell_type": "code",
   "execution_count": null,
   "metadata": {},
   "outputs": [],
   "source": [
    "def basic_time_plot(df: pd.DataFrame, col: str):\n",
    "    fig = px.line(\n",
    "        df,\n",
    "        x=\"DATE\",\n",
    "        y=col,\n",
    "        title=col,\n",
    "        height=300\n",
    "    )\n",
    "    fig.show()"
   ]
  },
  {
   "cell_type": "code",
   "execution_count": null,
   "metadata": {},
   "outputs": [],
   "source": [
    "\"\"\"You can observe each column\"\"\"\n",
    "\n",
    "basic_time_plot(origin_df, \"OSLO_temp_mean\")\n",
    "# basic_time_plot(origin_df, \"OSLO_temp_min\")\n",
    "# basic_time_plot(origin_df, \"OSLO_temp_max\")"
   ]
  },
  {
   "cell_type": "markdown",
   "metadata": {},
   "source": [
    "# Stationarity\n",
    "- diff = Mean monthly value - current value\n",
    "- it lloks like an additive model: monthly temperature + diff"
   ]
  },
  {
   "cell_type": "code",
   "execution_count": null,
   "metadata": {},
   "outputs": [],
   "source": [
    "stationary_df = origin_df.copy()"
   ]
  },
  {
   "cell_type": "code",
   "execution_count": null,
   "metadata": {},
   "outputs": [],
   "source": [
    "for col in oslo_columns:\n",
    "    mean_values = origin_df.groupby('MONTH').agg({col: \"mean\"}).to_dict()[col]\n",
    "    raw_values = stationary_df[col].to_list()\n",
    "    new_values = []\n",
    "    for i, x in enumerate(raw_values):\n",
    "        month = stationary_df.iloc[i][\"MONTH\"]\n",
    "        new_values.append(x - mean_values[month])\n",
    "    stationary_df[col] = new_values"
   ]
  },
  {
   "cell_type": "code",
   "execution_count": null,
   "metadata": {},
   "outputs": [],
   "source": [
    "fig = go.Figure()\n",
    "\n",
    "fig.add_trace(\n",
    "    go.Scattergl(\n",
    "        name=\"Raw temp\",\n",
    "        x=origin_df['DATE'],\n",
    "        y=origin_df['OSLO_temp_mean'],\n",
    "        mode='lines'\n",
    "    )\n",
    ")\n",
    "fig.add_trace(\n",
    "    go.Scattergl(\n",
    "        name=\"Monthly temp - raw temp\",\n",
    "        x=stationary_df['DATE'],\n",
    "        y=stationary_df['OSLO_temp_mean'],\n",
    "        mode='lines'\n",
    "    )\n",
    ")\n",
    "\n",
    "fig.show()"
   ]
  },
  {
   "cell_type": "code",
   "execution_count": null,
   "metadata": {},
   "outputs": [],
   "source": [
    "print(\"Is stationary? \", adfuller(stationary_df['OSLO_temp_mean'])[1] < 0.05)"
   ]
  },
  {
   "cell_type": "code",
   "execution_count": null,
   "metadata": {},
   "outputs": [],
   "source": [
    "stationary_df.to_csv(\"resources/weather_prediction_stationary_dataset.csv\")"
   ]
  },
  {
   "cell_type": "markdown",
   "metadata": {},
   "source": [
    "# Trend (per year)\n",
    "- no regular trend"
   ]
  },
  {
   "cell_type": "code",
   "execution_count": null,
   "metadata": {},
   "outputs": [],
   "source": [
    "fig = px.line(\n",
    "    origin_df.groupby(\"YEAR\").agg({\"OSLO_temp_mean\": \"median\"}).reset_index(),\n",
    "    x=\"YEAR\",\n",
    "    y=\"OSLO_temp_mean\",\n",
    "    width=800\n",
    ").show()"
   ]
  },
  {
   "cell_type": "markdown",
   "metadata": {},
   "source": [
    "# ML task (see next notebooks)\n",
    "**predict mean temperature in 2009 for each 1 week**\n",
    "\n",
    "\n",
    "## Strategies using only one feature (temp mean)\n",
    "- moving mean/median with different time lags\n",
    "\n",
    "\n",
    "## Strategies using multiple features in 1-dimensional vector: regression models\n",
    "- linear regression\n",
    "- decision tree\n",
    "- ensemble (random forest, gradient boost, xgboost, lgbm)\n",
    "\n",
    "\n",
    "## Strategies using multiple features in multiple-dimensional vector\n",
    "- recurrent nn\n",
    "- lstm nn"
   ]
  },
  {
   "cell_type": "markdown",
   "metadata": {},
   "source": []
  }
 ],
 "metadata": {
  "kernelspec": {
   "display_name": "venv",
   "language": "python",
   "name": "python3"
  },
  "language_info": {
   "codemirror_mode": {
    "name": "ipython",
    "version": 3
   },
   "file_extension": ".py",
   "mimetype": "text/x-python",
   "name": "python",
   "nbconvert_exporter": "python",
   "pygments_lexer": "ipython3",
   "version": "3.12.1"
  }
 },
 "nbformat": 4,
 "nbformat_minor": 2
}
