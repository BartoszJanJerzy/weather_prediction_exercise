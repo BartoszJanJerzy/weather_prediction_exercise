{
 "cells": [
  {
   "cell_type": "code",
   "execution_count": null,
   "metadata": {},
   "outputs": [],
   "source": [
    "import os\n",
    "\n",
    "import pandas as pd\n",
    "import numpy as np\n",
    "\n",
    "import plotly.graph_objects as go\n",
    "import plotly.express as px\n",
    "from plotly.subplots import make_subplots\n",
    "\n",
    "from sklearn.metrics import mean_absolute_error, mean_squared_error\n",
    "from statsmodels.tsa.arima.model import ARIMA\n",
    "from statsmodels.stats.diagnostic import acorr_ljungbox\n",
    "from datetime import date, timedelta"
   ]
  },
  {
   "cell_type": "code",
   "execution_count": null,
   "metadata": {},
   "outputs": [],
   "source": [
    "import warnings\n",
    "warnings.filterwarnings(\"ignore\")"
   ]
  },
  {
   "cell_type": "code",
   "execution_count": null,
   "metadata": {},
   "outputs": [],
   "source": [
    "os.chdir(\"..\")\n",
    "os.getcwd()"
   ]
  },
  {
   "cell_type": "markdown",
   "metadata": {},
   "source": [
    "# Load data"
   ]
  },
  {
   "cell_type": "code",
   "execution_count": null,
   "metadata": {},
   "outputs": [],
   "source": [
    "origin_df = pd.read_csv(\"./resources/weather_prediction_dataset.csv\")\n",
    "base_columns = [\"DATE\", \"MONTH\"]\n",
    "oslo_columns = [x for x in origin_df.columns if x.startswith(\"OSLO\")]\n",
    "columns = base_columns + oslo_columns\n",
    "origin_df = origin_df[columns][:-1]\n",
    "\n",
    "origin_df[\"YEAR\"] = origin_df[\"DATE\"].apply(lambda x: int(str(x)[:4]))\n",
    "origin_df[\"DAY\"] = origin_df[\"DATE\"].apply(lambda x: int(str(x)[-2:]))\n",
    "origin_df[\"DATE\"] = [\n",
    "    date(year=origin_df['YEAR'].iloc[i], month=origin_df['MONTH'].iloc[i], day=origin_df['DAY'].iloc[i])\n",
    "    for i in range(len(origin_df))\n",
    "]\n",
    "\n",
    "origin_df.head()"
   ]
  },
  {
   "cell_type": "code",
   "execution_count": null,
   "metadata": {},
   "outputs": [],
   "source": [
    "stationary_df = pd.read_csv(\"resources/weather_prediction_stationary_dataset.csv\")"
   ]
  },
  {
   "cell_type": "markdown",
   "metadata": {},
   "source": [
    "# Prepare dataset"
   ]
  },
  {
   "cell_type": "code",
   "execution_count": null,
   "metadata": {},
   "outputs": [],
   "source": [
    "monthly_temp = origin_df.groupby('MONTH').agg({\"OSLO_temp_mean\": \"mean\"}).to_dict()[\"OSLO_temp_mean\"]\n",
    "monthly_temp"
   ]
  },
  {
   "cell_type": "code",
   "execution_count": null,
   "metadata": {},
   "outputs": [],
   "source": [
    "temperature_df = origin_df[[\"DATE\", \"OSLO_temp_mean\"]]\n",
    "temperature_df.rename(columns={\"DATE\": \"date\", \"OSLO_temp_mean\": \"raw_temp\"}, inplace=True)\n",
    "temperature_df[\"stationary_temp\"] = stationary_df[\"OSLO_temp_mean\"]\n",
    "temperature_df"
   ]
  },
  {
   "cell_type": "code",
   "execution_count": null,
   "metadata": {},
   "outputs": [],
   "source": [
    "for i in range(1, 8):\n",
    "    temperature_df[f\"stationary_temp_lag{i}\"] = temperature_df[\"stationary_temp\"].shift(i)\n",
    "\n",
    "temperature_df.head(10)"
   ]
  },
  {
   "cell_type": "markdown",
   "metadata": {},
   "source": [
    "# Implement ARIMA model for different lags (1 to 7)"
   ]
  },
  {
   "cell_type": "code",
   "execution_count": null,
   "metadata": {},
   "outputs": [],
   "source": [
    "def show_predictions(targets, preds, mae, mse, lag):\n",
    "    fig = go.Figure()\n",
    "\n",
    "    fig.add_trace(\n",
    "        go.Scattergl(\n",
    "            name=\"Real\",\n",
    "            x=[x for x in range(len(targets))],\n",
    "            y=targets,\n",
    "            mode=\"lines\"\n",
    "        )\n",
    "    )\n",
    "    fig.add_trace(\n",
    "        go.Scattergl(\n",
    "            name=\"7-days predictions\",\n",
    "            x=[x for x in range(len(targets))],\n",
    "            y=preds,\n",
    "            mode=\"lines\"\n",
    "        )\n",
    "    )\n",
    "\n",
    "    fig.update_layout(\n",
    "        title=f\"<b>7 days predictions in 2009</b><br>Lag days = {lag}<br>mae={round(mae, 2)}, mse={round(mse, 2)}\",\n",
    "        height=500,\n",
    "        legend=dict(\n",
    "            orientation=\"h\",\n",
    "            yanchor=\"bottom\",\n",
    "            y=0.91,\n",
    "            xanchor=\"left\",\n",
    "            x=0\n",
    "        ),\n",
    "        xaxis_title=\"Day\",\n",
    "        yaxis_title=\"Temp [C]\"\n",
    "    )\n",
    "\n",
    "    fig.show()"
   ]
  },
  {
   "cell_type": "code",
   "execution_count": null,
   "metadata": {},
   "outputs": [],
   "source": [
    "origin_lag_cols = [\"stationary_temp_lag1\",\t\"stationary_temp_lag2\",\t\"stationary_temp_lag3\",\t\"stationary_temp_lag4\",\t\"stationary_temp_lag5\",\t\"stationary_temp_lag6\",\t\"stationary_temp_lag7\"]\n",
    "mae_data, mse_data = {}, {}\n",
    "\n",
    "for lag in range(1, 8):\n",
    "    preds, targets, months = [], [], []\n",
    "    lag_cols = origin_lag_cols[:lag]\n",
    "    finish_date = date(year=2009, month=1, day=1)\n",
    "\n",
    "\n",
    "    while True:\n",
    "        current_df = (\n",
    "            temperature_df\n",
    "            [temperature_df[\"date\"] < finish_date]\n",
    "            [[\"date\", \"raw_temp\", \"stationary_temp\"]]\n",
    "        )\n",
    "        if len(temperature_df) - len(current_df) >= 7:\n",
    "            arima = ARIMA(current_df[\"stationary_temp\"], order=(lag, 0, lag)).fit()\n",
    "            preds += arima.forecast(7).to_list()\n",
    "            targets += current_df[\"stationary_temp\"].to_list()[-7:]\n",
    "            months += [x.month for x in current_df[\"date\"].to_list()[-7:]]\n",
    "        else:\n",
    "            break\n",
    "        \n",
    "        finish_date += timedelta(days=7)\n",
    "\n",
    "    targets = [monthly_temp[months[i]] + x for i, x in enumerate(targets)]\n",
    "    preds = [monthly_temp[months[i]] + x for i, x in enumerate(preds)]\n",
    "    mae = mean_absolute_error(targets, preds)\n",
    "    mse = mean_squared_error(targets, preds)\n",
    "\n",
    "    mae_data[lag] = mae\n",
    "    mse_data[lag] = mse\n",
    "    \n",
    "    show_predictions(targets, preds, mae, mse, lag)"
   ]
  },
  {
   "cell_type": "code",
   "execution_count": null,
   "metadata": {},
   "outputs": [],
   "source": [
    "fig = make_subplots(\n",
    "    rows=1,\n",
    "    cols=2,\n",
    "    subplot_titles=(\"mae\", \"mse\")\n",
    ")\n",
    "\n",
    "fig.add_trace(\n",
    "    go.Bar(\n",
    "        x=list(mae_data.keys()),\n",
    "        y=list(mae_data.values()),\n",
    "        text=[round(x, 2) for x in mae_data.values()],\n",
    "        marker_color=\"teal\",\n",
    "        showlegend=False\n",
    "    ),\n",
    "    row=1,\n",
    "    col=1\n",
    ")\n",
    "fig.add_trace(\n",
    "    go.Bar(\n",
    "        x=list(mse_data.keys()),\n",
    "        y=list(mse_data.values()),\n",
    "        text=[round(x, 2) for x in mse_data.values()],\n",
    "        marker_color=\"teal\",\n",
    "        showlegend=False\n",
    "    ),\n",
    "    row=1,\n",
    "    col=2\n",
    ")\n",
    "\n",
    "fig.update_layout(\n",
    "    title=\"Error metrics\",\n",
    "    width=1200,\n",
    "    height=500,\n",
    "    xaxis_title=\"Lag days\",\n",
    "    xaxis2_title=\"Lag days\",\n",
    "    yaxis=dict(range=(0, max(list(mae_data.values()) + list(mse_data.values()))+1), title=\"error\"),\n",
    "    yaxis2=dict(range=(0, max(list(mae_data.values()) + list(mse_data.values()))+1), title=\"error\"),\n",
    ")\n",
    "\n",
    "fig.show()"
   ]
  }
 ],
 "metadata": {
  "kernelspec": {
   "display_name": "venv",
   "language": "python",
   "name": "python3"
  },
  "language_info": {
   "codemirror_mode": {
    "name": "ipython",
    "version": 3
   },
   "file_extension": ".py",
   "mimetype": "text/x-python",
   "name": "python",
   "nbconvert_exporter": "python",
   "pygments_lexer": "ipython3",
   "version": "3.12.1"
  }
 },
 "nbformat": 4,
 "nbformat_minor": 2
}
